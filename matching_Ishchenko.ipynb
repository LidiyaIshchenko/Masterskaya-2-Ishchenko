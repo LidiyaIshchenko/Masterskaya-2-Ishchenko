{
 "cells": [
  {
   "cell_type": "markdown",
   "id": "606f35c9",
   "metadata": {},
   "source": [
    "# Поиск наиболее похожих товаров"
   ]
  },
  {
   "cell_type": "markdown",
   "id": "2748318e",
   "metadata": {},
   "source": [
    "## Введение"
   ]
  },
  {
   "cell_type": "markdown",
   "id": "38e24d54",
   "metadata": {},
   "source": [
    "Заказчик предоставил анонимизированный набор имеющихся на складах товаров и набор новых товаров, для которых необходимо найти наиболее похожие из имеющегося набора. \n",
    "Особенность задачи состоит в том, что автоматический подбор похожих товаров должен производиться так, чтобы симулировать работу экспертов. Образцы их ответов предоставлены для обучения модели в отдельном файле вместе с примерами запросов."
   ]
  },
  {
   "cell_type": "markdown",
   "id": "97f9c89d",
   "metadata": {},
   "source": [
    "## Описание данных"
   ]
  },
  {
   "cell_type": "markdown",
   "id": "649fe399",
   "metadata": {},
   "source": [
    "- <u>base.csv</u> - анонимизированный **набор товаров**. Каждый товар представлен как уникальный id (0-base, 1-base, 2-base) и вектор признаков размерностью 72.\n",
    "\n",
    "- <u>train.csv</u> - **обучающий датасет**. Каждая строчка - один товар, для которого известен уникальный id (0-query, …, 100000-query), вектор признаков и id товара из base.csv, который максимально похож на него по мнению экспертов.\n",
    "\n",
    "- <u>validation.csv</u> - **датасет с товарами** (уникальный id и вектор признаков), **для которых надо найти наиболее близкие** товары из base.csv.\n",
    "\n",
    "- <u>validation_answer.csv</u> - **правильные ответы** к датасету с товарами для поиска (даётся **для оценки** работы простроенной **модели**).\n"
   ]
  },
  {
   "cell_type": "markdown",
   "id": "cf736692",
   "metadata": {},
   "source": [
    "## Задачи"
   ]
  },
  {
   "cell_type": "markdown",
   "id": "bd63163e",
   "metadata": {},
   "source": [
    "- **разработать алгоритм**, который для всех товаров из validation.csv предложит несколько вариантов наиболее похожих товаров из base.csv;\n",
    "- **оценить качество алгоритма** по метрике **accuracy@5**."
   ]
  },
  {
   "cell_type": "markdown",
   "id": "12217ee7-bd57-41b0-a9d7-b8d70ac5bef9",
   "metadata": {},
   "source": [
    "## Вывод"
   ]
  },
  {
   "cell_type": "markdown",
   "id": "9058e93c-0a97-4ddb-96f1-f21e1d7652e6",
   "metadata": {},
   "source": [
    "1. В рамках исследования были представлены 3 набора данных:\n",
    "- Пропусков и дубликатов нет ни в одном наборе.\n",
    "- Данные в основном представлены непрерывными числовыми значениями, основная их доля очевидно имеет нормальное распределение. \n",
    "- Данные, которые явно не характеризуются нормальным распределением были исключены из анализа, т.к. такие данные вносят лишние шумы.\n",
    "- Сильных корреляционных зависимостей не выявлено.\n",
    "\n",
    "2. Учитывая тот факт, что формула для расчёта расстояния между точками в пространстве чувствительна к диапазону значений различных характеристик, данные были нормализованы.\n",
    "\n",
    "3. Дополнительно проанализирована целевая метрика в зависимости от количества кандидатов в диапозоне от 5 до 500 кандадатов и установлено:\n",
    "- с увеличением количества кандидатов растет и максимальное значение целевой метрики\n",
    "- увеличение количества кандидатов увеличит и время предсказания модели, так как ей придется в каждой иттерации просчитывать бОльшее количество кандидатов.\n",
    "\n",
    "4. Для решения поставленной задачи было создано и наполнено векторное пространство из объектов анонамизированного набора данных (base). Пространство поделено на 20 кластеров, что ускоряет и уточняет процесс поиска. Для каждого объекта из train были найдены 10 ближайших векторов при помощи меры FlatL2 (при большом количестве не хватало оперативной памяти при формировании дататсетов для обучения и тестирования ML модели).\n",
    "\n",
    "5. На тренировочном датасете (train) получаем значение метрики **accuracy@5=63.114**, что является удовлетворительным результатом работы модели. Такой результат удалось достичь за счет удалениея не информативных признаков и стандартизации данных. При этом на тестовой выборке (validation) значение метрики **accuracy@5= 62.96** достигнуто без учета ранжирования ML моделью.\n",
    "\n",
    "6. В качестве ML модели был выбран CatBoostClassifier и проведен подбор гиперпараметров. По обученной модели пердсказаны вероятности совместимости и по найденным занчениям вероятностей  определены 5 наиболее подходящих кандидато по которым расчитано значение целевой метрики **accuracy@5=61.81**\n",
    "\n",
    "**На текущем этапе мы видим, что применение ML модели не улучшает показатель целевой метрики, тем не менее в дальнейшем можно поробовать усовершенстовать модель и повторно сравнить результат**"
   ]
  },
  {
   "cell_type": "markdown",
   "id": "18a0530c",
   "metadata": {
    "tags": []
   },
   "source": [
    "## Импорт библиотек"
   ]
  },
  {
   "cell_type": "code",
   "execution_count": 2,
   "id": "cdf51138-c81d-4a85-92c2-06e7ef775c4a",
   "metadata": {
    "scrolled": false,
    "tags": []
   },
   "outputs": [
    {
     "name": "stdout",
     "output_type": "stream",
     "text": [
      "Defaulting to user installation because normal site-packages is not writeable\n",
      "Requirement already satisfied: faiss-cpu in c:\\users\\лидия\\appdata\\roaming\\python\\python311\\site-packages (1.7.4)\n"
     ]
    }
   ],
   "source": [
    "!pip install faiss-cpu --no-cache"
   ]
  },
  {
   "cell_type": "code",
   "execution_count": 3,
   "id": "6384480f-89b2-452e-979c-38663a05cefb",
   "metadata": {
    "tags": []
   },
   "outputs": [
    {
     "name": "stdout",
     "output_type": "stream",
     "text": [
      "Defaulting to user installation because normal site-packages is not writeable\n",
      "Requirement already satisfied: catboost in c:\\users\\лидия\\appdata\\roaming\\python\\python311\\site-packages (1.2.2)\n",
      "Requirement already satisfied: graphviz in c:\\users\\лидия\\appdata\\roaming\\python\\python311\\site-packages (from catboost) (0.20.1)\n",
      "Requirement already satisfied: matplotlib in c:\\programdata\\anaconda4\\lib\\site-packages (from catboost) (3.7.1)\n",
      "Requirement already satisfied: numpy>=1.16.0 in c:\\programdata\\anaconda4\\lib\\site-packages (from catboost) (1.24.3)\n",
      "Requirement already satisfied: pandas>=0.24 in c:\\programdata\\anaconda4\\lib\\site-packages (from catboost) (1.5.3)\n",
      "Requirement already satisfied: scipy in c:\\programdata\\anaconda4\\lib\\site-packages (from catboost) (1.10.1)\n",
      "Requirement already satisfied: plotly in c:\\programdata\\anaconda4\\lib\\site-packages (from catboost) (5.9.0)\n",
      "Requirement already satisfied: six in c:\\programdata\\anaconda4\\lib\\site-packages (from catboost) (1.16.0)\n",
      "Requirement already satisfied: python-dateutil>=2.8.1 in c:\\programdata\\anaconda4\\lib\\site-packages (from pandas>=0.24->catboost) (2.8.2)\n",
      "Requirement already satisfied: pytz>=2020.1 in c:\\programdata\\anaconda4\\lib\\site-packages (from pandas>=0.24->catboost) (2022.7)\n",
      "Requirement already satisfied: contourpy>=1.0.1 in c:\\programdata\\anaconda4\\lib\\site-packages (from matplotlib->catboost) (1.0.5)\n",
      "Requirement already satisfied: cycler>=0.10 in c:\\programdata\\anaconda4\\lib\\site-packages (from matplotlib->catboost) (0.11.0)\n",
      "Requirement already satisfied: fonttools>=4.22.0 in c:\\programdata\\anaconda4\\lib\\site-packages (from matplotlib->catboost) (4.25.0)\n",
      "Requirement already satisfied: kiwisolver>=1.0.1 in c:\\programdata\\anaconda4\\lib\\site-packages (from matplotlib->catboost) (1.4.4)\n",
      "Requirement already satisfied: packaging>=20.0 in c:\\programdata\\anaconda4\\lib\\site-packages (from matplotlib->catboost) (23.0)\n",
      "Requirement already satisfied: pillow>=6.2.0 in c:\\programdata\\anaconda4\\lib\\site-packages (from matplotlib->catboost) (9.4.0)\n",
      "Requirement already satisfied: pyparsing>=2.3.1 in c:\\programdata\\anaconda4\\lib\\site-packages (from matplotlib->catboost) (3.0.9)\n",
      "Requirement already satisfied: tenacity>=6.2.0 in c:\\programdata\\anaconda4\\lib\\site-packages (from plotly->catboost) (8.2.2)\n"
     ]
    }
   ],
   "source": [
    "!pip install catboost"
   ]
  },
  {
   "cell_type": "code",
   "execution_count": 4,
   "id": "90803206-a792-429f-9189-be6254cc19f1",
   "metadata": {
    "tags": []
   },
   "outputs": [
    {
     "name": "stdout",
     "output_type": "stream",
     "text": [
      "Defaulting to user installation because normal site-packages is not writeable\n",
      "Requirement already satisfied: optuna in c:\\users\\лидия\\appdata\\roaming\\python\\python311\\site-packages (3.4.0)\n",
      "Requirement already satisfied: alembic>=1.5.0 in c:\\users\\лидия\\appdata\\roaming\\python\\python311\\site-packages (from optuna) (1.12.1)\n",
      "Requirement already satisfied: colorlog in c:\\users\\лидия\\appdata\\roaming\\python\\python311\\site-packages (from optuna) (6.7.0)\n",
      "Requirement already satisfied: numpy in c:\\programdata\\anaconda4\\lib\\site-packages (from optuna) (1.24.3)\n",
      "Requirement already satisfied: packaging>=20.0 in c:\\programdata\\anaconda4\\lib\\site-packages (from optuna) (23.0)\n",
      "Requirement already satisfied: sqlalchemy>=1.3.0 in c:\\programdata\\anaconda4\\lib\\site-packages (from optuna) (1.4.39)\n",
      "Requirement already satisfied: tqdm in c:\\programdata\\anaconda4\\lib\\site-packages (from optuna) (4.65.0)\n",
      "Requirement already satisfied: PyYAML in c:\\programdata\\anaconda4\\lib\\site-packages (from optuna) (6.0)\n",
      "Requirement already satisfied: Mako in c:\\users\\лидия\\appdata\\roaming\\python\\python311\\site-packages (from alembic>=1.5.0->optuna) (1.3.0)\n",
      "Requirement already satisfied: typing-extensions>=4 in c:\\programdata\\anaconda4\\lib\\site-packages (from alembic>=1.5.0->optuna) (4.7.1)\n",
      "Requirement already satisfied: greenlet!=0.4.17 in c:\\programdata\\anaconda4\\lib\\site-packages (from sqlalchemy>=1.3.0->optuna) (2.0.1)\n",
      "Requirement already satisfied: colorama in c:\\programdata\\anaconda4\\lib\\site-packages (from colorlog->optuna) (0.4.6)\n",
      "Requirement already satisfied: MarkupSafe>=0.9.2 in c:\\programdata\\anaconda4\\lib\\site-packages (from Mako->alembic>=1.5.0->optuna) (2.1.1)\n"
     ]
    }
   ],
   "source": [
    "!pip install optuna"
   ]
  },
  {
   "cell_type": "code",
   "execution_count": 5,
   "id": "424e17cb-ae43-475d-bd00-a3bb36a51cb5",
   "metadata": {
    "tags": []
   },
   "outputs": [],
   "source": [
    "import pandas as pd\n",
    "import numpy as np\n",
    "import matplotlib.pyplot as plt\n",
    "import seaborn as sns\n",
    "\n",
    "import faiss\n",
    "import optuna\n",
    "import datetime as dt\n",
    "\n",
    "#from adjdatatools.preprocessing import AdjustedScaler\n",
    "from sklearn.utils import shuffle\n",
    "from sklearn.preprocessing import StandardScaler\n",
    "from sklearn.model_selection import train_test_split, KFold, cross_val_score\n",
    "from sklearn.metrics import roc_auc_score, make_scorer, f1_score, roc_curve\n",
    "from optuna.samplers import TPESampler\n",
    "from catboost import CatBoostClassifier\n",
    "RANDOM_STATE = 12345"
   ]
  },
  {
   "cell_type": "markdown",
   "id": "ea67f7f3-16eb-45e8-a14d-bd4814accf32",
   "metadata": {
    "tags": []
   },
   "source": [
    "# Загрузка и анализ данных"
   ]
  },
  {
   "cell_type": "code",
   "execution_count": 6,
   "id": "795952a5",
   "metadata": {
    "tags": []
   },
   "outputs": [],
   "source": [
    "# функция для предварительного знакомства с данными\n",
    "def first_look(df, num_of_srtings=5):\n",
    "    print('Общая информация')\n",
    "    display(df.info())\n",
    "    \n",
    "    print(f'Первые {num_of_srtings} строк(и) данных')\n",
    "    display(df.head(num_of_srtings))\n",
    "    \n",
    "    print('Основные статистические характеристики данных')\n",
    "    display(df.describe())\n",
    "    \n",
    "    print('Количество пропусков:')\n",
    "    print(df.isna().sum())\n",
    "    print()\n",
    "    \n",
    "    print('Количество дубликатов:', df.duplicated().sum())"
   ]
  },
  {
   "cell_type": "code",
   "execution_count": 7,
   "id": "eaad48a1",
   "metadata": {
    "tags": []
   },
   "outputs": [],
   "source": [
    "# открываем файл с анонимизированным набором товаров \n",
    "df_base = pd.read_csv(\"base.csv\", index_col=0)\n",
    "df_train = pd.read_csv(\"train.csv\", index_col=0)\n",
    "df_validation = pd.read_csv(\"validation.csv\", index_col=0)\n",
    "df_validation_answer = pd.read_csv(\"validation_answer.csv\", index_col=0)"
   ]
  },
  {
   "cell_type": "markdown",
   "id": "f58f19a8-a87e-4d37-9c4e-07523075945c",
   "metadata": {},
   "source": [
    "## Анонимизированный набор товаров"
   ]
  },
  {
   "cell_type": "code",
   "execution_count": 8,
   "id": "9137b16a-b95a-4346-8e9c-252159558b82",
   "metadata": {
    "tags": []
   },
   "outputs": [
    {
     "name": "stdout",
     "output_type": "stream",
     "text": [
      "Общая информация\n",
      "<class 'pandas.core.frame.DataFrame'>\n",
      "Index: 2918139 entries, 0-base to 4744766-base\n",
      "Data columns (total 72 columns):\n",
      " #   Column  Dtype  \n",
      "---  ------  -----  \n",
      " 0   0       float64\n",
      " 1   1       float64\n",
      " 2   2       float64\n",
      " 3   3       float64\n",
      " 4   4       float64\n",
      " 5   5       float64\n",
      " 6   6       float64\n",
      " 7   7       float64\n",
      " 8   8       float64\n",
      " 9   9       float64\n",
      " 10  10      float64\n",
      " 11  11      float64\n",
      " 12  12      float64\n",
      " 13  13      float64\n",
      " 14  14      float64\n",
      " 15  15      float64\n",
      " 16  16      float64\n",
      " 17  17      float64\n",
      " 18  18      float64\n",
      " 19  19      float64\n",
      " 20  20      float64\n",
      " 21  21      float64\n",
      " 22  22      float64\n",
      " 23  23      float64\n",
      " 24  24      float64\n",
      " 25  25      float64\n",
      " 26  26      float64\n",
      " 27  27      float64\n",
      " 28  28      float64\n",
      " 29  29      float64\n",
      " 30  30      float64\n",
      " 31  31      float64\n",
      " 32  32      float64\n",
      " 33  33      float64\n",
      " 34  34      float64\n",
      " 35  35      float64\n",
      " 36  36      float64\n",
      " 37  37      float64\n",
      " 38  38      float64\n",
      " 39  39      float64\n",
      " 40  40      float64\n",
      " 41  41      float64\n",
      " 42  42      float64\n",
      " 43  43      float64\n",
      " 44  44      float64\n",
      " 45  45      float64\n",
      " 46  46      float64\n",
      " 47  47      float64\n",
      " 48  48      float64\n",
      " 49  49      float64\n",
      " 50  50      float64\n",
      " 51  51      float64\n",
      " 52  52      float64\n",
      " 53  53      float64\n",
      " 54  54      float64\n",
      " 55  55      float64\n",
      " 56  56      float64\n",
      " 57  57      float64\n",
      " 58  58      float64\n",
      " 59  59      float64\n",
      " 60  60      float64\n",
      " 61  61      float64\n",
      " 62  62      float64\n",
      " 63  63      float64\n",
      " 64  64      float64\n",
      " 65  65      float64\n",
      " 66  66      float64\n",
      " 67  67      float64\n",
      " 68  68      float64\n",
      " 69  69      float64\n",
      " 70  70      float64\n",
      " 71  71      float64\n",
      "dtypes: float64(72)\n",
      "memory usage: 1.6+ GB\n"
     ]
    },
    {
     "data": {
      "text/plain": [
       "None"
      ]
     },
     "metadata": {},
     "output_type": "display_data"
    },
    {
     "name": "stdout",
     "output_type": "stream",
     "text": [
      "Первые 5 строк(и) данных\n"
     ]
    },
    {
     "data": {
      "text/html": [
       "<div>\n",
       "<style scoped>\n",
       "    .dataframe tbody tr th:only-of-type {\n",
       "        vertical-align: middle;\n",
       "    }\n",
       "\n",
       "    .dataframe tbody tr th {\n",
       "        vertical-align: top;\n",
       "    }\n",
       "\n",
       "    .dataframe thead th {\n",
       "        text-align: right;\n",
       "    }\n",
       "</style>\n",
       "<table border=\"1\" class=\"dataframe\">\n",
       "  <thead>\n",
       "    <tr style=\"text-align: right;\">\n",
       "      <th></th>\n",
       "      <th>0</th>\n",
       "      <th>1</th>\n",
       "      <th>2</th>\n",
       "      <th>3</th>\n",
       "      <th>4</th>\n",
       "      <th>5</th>\n",
       "      <th>6</th>\n",
       "      <th>7</th>\n",
       "      <th>8</th>\n",
       "      <th>9</th>\n",
       "      <th>...</th>\n",
       "      <th>62</th>\n",
       "      <th>63</th>\n",
       "      <th>64</th>\n",
       "      <th>65</th>\n",
       "      <th>66</th>\n",
       "      <th>67</th>\n",
       "      <th>68</th>\n",
       "      <th>69</th>\n",
       "      <th>70</th>\n",
       "      <th>71</th>\n",
       "    </tr>\n",
       "    <tr>\n",
       "      <th>Id</th>\n",
       "      <th></th>\n",
       "      <th></th>\n",
       "      <th></th>\n",
       "      <th></th>\n",
       "      <th></th>\n",
       "      <th></th>\n",
       "      <th></th>\n",
       "      <th></th>\n",
       "      <th></th>\n",
       "      <th></th>\n",
       "      <th></th>\n",
       "      <th></th>\n",
       "      <th></th>\n",
       "      <th></th>\n",
       "      <th></th>\n",
       "      <th></th>\n",
       "      <th></th>\n",
       "      <th></th>\n",
       "      <th></th>\n",
       "      <th></th>\n",
       "      <th></th>\n",
       "    </tr>\n",
       "  </thead>\n",
       "  <tbody>\n",
       "    <tr>\n",
       "      <th>0-base</th>\n",
       "      <td>-115.083890</td>\n",
       "      <td>11.152912</td>\n",
       "      <td>-64.426760</td>\n",
       "      <td>-118.88089</td>\n",
       "      <td>216.482440</td>\n",
       "      <td>-104.698060</td>\n",
       "      <td>-469.070588</td>\n",
       "      <td>44.348083</td>\n",
       "      <td>120.915344</td>\n",
       "      <td>181.449700</td>\n",
       "      <td>...</td>\n",
       "      <td>-42.808693</td>\n",
       "      <td>38.800827</td>\n",
       "      <td>-151.76218</td>\n",
       "      <td>-74.389090</td>\n",
       "      <td>63.66634</td>\n",
       "      <td>-4.703861</td>\n",
       "      <td>92.933610</td>\n",
       "      <td>115.269190</td>\n",
       "      <td>-112.756640</td>\n",
       "      <td>-60.830353</td>\n",
       "    </tr>\n",
       "    <tr>\n",
       "      <th>1-base</th>\n",
       "      <td>-34.562202</td>\n",
       "      <td>13.332763</td>\n",
       "      <td>-69.787610</td>\n",
       "      <td>-166.53348</td>\n",
       "      <td>57.680607</td>\n",
       "      <td>-86.098370</td>\n",
       "      <td>-85.076666</td>\n",
       "      <td>-35.637436</td>\n",
       "      <td>119.718636</td>\n",
       "      <td>195.234190</td>\n",
       "      <td>...</td>\n",
       "      <td>-117.767525</td>\n",
       "      <td>41.100000</td>\n",
       "      <td>-157.82940</td>\n",
       "      <td>-94.446806</td>\n",
       "      <td>68.20211</td>\n",
       "      <td>24.346846</td>\n",
       "      <td>179.937930</td>\n",
       "      <td>116.834000</td>\n",
       "      <td>-84.888941</td>\n",
       "      <td>-59.524610</td>\n",
       "    </tr>\n",
       "    <tr>\n",
       "      <th>2-base</th>\n",
       "      <td>-54.233746</td>\n",
       "      <td>6.379371</td>\n",
       "      <td>-29.210136</td>\n",
       "      <td>-133.41383</td>\n",
       "      <td>150.895830</td>\n",
       "      <td>-99.435326</td>\n",
       "      <td>52.554795</td>\n",
       "      <td>62.381706</td>\n",
       "      <td>128.951450</td>\n",
       "      <td>164.381470</td>\n",
       "      <td>...</td>\n",
       "      <td>-76.397800</td>\n",
       "      <td>46.011803</td>\n",
       "      <td>-207.14442</td>\n",
       "      <td>127.325570</td>\n",
       "      <td>65.56618</td>\n",
       "      <td>66.325680</td>\n",
       "      <td>81.073490</td>\n",
       "      <td>116.594154</td>\n",
       "      <td>-1074.464888</td>\n",
       "      <td>-32.527206</td>\n",
       "    </tr>\n",
       "    <tr>\n",
       "      <th>3-base</th>\n",
       "      <td>-87.520130</td>\n",
       "      <td>4.037884</td>\n",
       "      <td>-87.803030</td>\n",
       "      <td>-185.06763</td>\n",
       "      <td>76.369540</td>\n",
       "      <td>-58.985165</td>\n",
       "      <td>-383.182845</td>\n",
       "      <td>-33.611237</td>\n",
       "      <td>122.031910</td>\n",
       "      <td>136.233580</td>\n",
       "      <td>...</td>\n",
       "      <td>-70.647940</td>\n",
       "      <td>-6.358921</td>\n",
       "      <td>-147.20105</td>\n",
       "      <td>-37.692750</td>\n",
       "      <td>66.20289</td>\n",
       "      <td>-20.566910</td>\n",
       "      <td>137.206940</td>\n",
       "      <td>117.474100</td>\n",
       "      <td>-1074.464888</td>\n",
       "      <td>-72.915490</td>\n",
       "    </tr>\n",
       "    <tr>\n",
       "      <th>4-base</th>\n",
       "      <td>-72.743850</td>\n",
       "      <td>6.522049</td>\n",
       "      <td>43.671265</td>\n",
       "      <td>-140.60803</td>\n",
       "      <td>5.820023</td>\n",
       "      <td>-112.074080</td>\n",
       "      <td>-397.711282</td>\n",
       "      <td>45.182500</td>\n",
       "      <td>122.167180</td>\n",
       "      <td>112.119064</td>\n",
       "      <td>...</td>\n",
       "      <td>-57.199104</td>\n",
       "      <td>56.642403</td>\n",
       "      <td>-159.35184</td>\n",
       "      <td>85.944724</td>\n",
       "      <td>66.76632</td>\n",
       "      <td>-2.505783</td>\n",
       "      <td>65.315285</td>\n",
       "      <td>135.051590</td>\n",
       "      <td>-1074.464888</td>\n",
       "      <td>0.319401</td>\n",
       "    </tr>\n",
       "  </tbody>\n",
       "</table>\n",
       "<p>5 rows × 72 columns</p>\n",
       "</div>"
      ],
      "text/plain": [
       "                 0          1          2          3           4           5  \\\n",
       "Id                                                                            \n",
       "0-base -115.083890  11.152912 -64.426760 -118.88089  216.482440 -104.698060   \n",
       "1-base  -34.562202  13.332763 -69.787610 -166.53348   57.680607  -86.098370   \n",
       "2-base  -54.233746   6.379371 -29.210136 -133.41383  150.895830  -99.435326   \n",
       "3-base  -87.520130   4.037884 -87.803030 -185.06763   76.369540  -58.985165   \n",
       "4-base  -72.743850   6.522049  43.671265 -140.60803    5.820023 -112.074080   \n",
       "\n",
       "                 6          7           8           9  ...          62  \\\n",
       "Id                                                     ...               \n",
       "0-base -469.070588  44.348083  120.915344  181.449700  ...  -42.808693   \n",
       "1-base  -85.076666 -35.637436  119.718636  195.234190  ... -117.767525   \n",
       "2-base   52.554795  62.381706  128.951450  164.381470  ...  -76.397800   \n",
       "3-base -383.182845 -33.611237  122.031910  136.233580  ...  -70.647940   \n",
       "4-base -397.711282  45.182500  122.167180  112.119064  ...  -57.199104   \n",
       "\n",
       "               63         64          65        66         67          68  \\\n",
       "Id                                                                          \n",
       "0-base  38.800827 -151.76218  -74.389090  63.66634  -4.703861   92.933610   \n",
       "1-base  41.100000 -157.82940  -94.446806  68.20211  24.346846  179.937930   \n",
       "2-base  46.011803 -207.14442  127.325570  65.56618  66.325680   81.073490   \n",
       "3-base  -6.358921 -147.20105  -37.692750  66.20289 -20.566910  137.206940   \n",
       "4-base  56.642403 -159.35184   85.944724  66.76632  -2.505783   65.315285   \n",
       "\n",
       "                69           70         71  \n",
       "Id                                          \n",
       "0-base  115.269190  -112.756640 -60.830353  \n",
       "1-base  116.834000   -84.888941 -59.524610  \n",
       "2-base  116.594154 -1074.464888 -32.527206  \n",
       "3-base  117.474100 -1074.464888 -72.915490  \n",
       "4-base  135.051590 -1074.464888   0.319401  \n",
       "\n",
       "[5 rows x 72 columns]"
      ]
     },
     "metadata": {},
     "output_type": "display_data"
    },
    {
     "name": "stdout",
     "output_type": "stream",
     "text": [
      "Основные статистические характеристики данных\n"
     ]
    },
    {
     "data": {
      "text/html": [
       "<div>\n",
       "<style scoped>\n",
       "    .dataframe tbody tr th:only-of-type {\n",
       "        vertical-align: middle;\n",
       "    }\n",
       "\n",
       "    .dataframe tbody tr th {\n",
       "        vertical-align: top;\n",
       "    }\n",
       "\n",
       "    .dataframe thead th {\n",
       "        text-align: right;\n",
       "    }\n",
       "</style>\n",
       "<table border=\"1\" class=\"dataframe\">\n",
       "  <thead>\n",
       "    <tr style=\"text-align: right;\">\n",
       "      <th></th>\n",
       "      <th>0</th>\n",
       "      <th>1</th>\n",
       "      <th>2</th>\n",
       "      <th>3</th>\n",
       "      <th>4</th>\n",
       "      <th>5</th>\n",
       "      <th>6</th>\n",
       "      <th>7</th>\n",
       "      <th>8</th>\n",
       "      <th>9</th>\n",
       "      <th>...</th>\n",
       "      <th>62</th>\n",
       "      <th>63</th>\n",
       "      <th>64</th>\n",
       "      <th>65</th>\n",
       "      <th>66</th>\n",
       "      <th>67</th>\n",
       "      <th>68</th>\n",
       "      <th>69</th>\n",
       "      <th>70</th>\n",
       "      <th>71</th>\n",
       "    </tr>\n",
       "  </thead>\n",
       "  <tbody>\n",
       "    <tr>\n",
       "      <th>count</th>\n",
       "      <td>2.918139e+06</td>\n",
       "      <td>2.918139e+06</td>\n",
       "      <td>2.918139e+06</td>\n",
       "      <td>2.918139e+06</td>\n",
       "      <td>2.918139e+06</td>\n",
       "      <td>2.918139e+06</td>\n",
       "      <td>2.918139e+06</td>\n",
       "      <td>2.918139e+06</td>\n",
       "      <td>2.918139e+06</td>\n",
       "      <td>2.918139e+06</td>\n",
       "      <td>...</td>\n",
       "      <td>2.918139e+06</td>\n",
       "      <td>2.918139e+06</td>\n",
       "      <td>2.918139e+06</td>\n",
       "      <td>2.918139e+06</td>\n",
       "      <td>2.918139e+06</td>\n",
       "      <td>2.918139e+06</td>\n",
       "      <td>2.918139e+06</td>\n",
       "      <td>2.918139e+06</td>\n",
       "      <td>2.918139e+06</td>\n",
       "      <td>2.918139e+06</td>\n",
       "    </tr>\n",
       "    <tr>\n",
       "      <th>mean</th>\n",
       "      <td>-8.622947e+01</td>\n",
       "      <td>8.080077e+00</td>\n",
       "      <td>-4.458080e+01</td>\n",
       "      <td>-1.466350e+02</td>\n",
       "      <td>1.113166e+02</td>\n",
       "      <td>-7.199138e+01</td>\n",
       "      <td>-3.922239e+02</td>\n",
       "      <td>2.035283e+01</td>\n",
       "      <td>1.236842e+02</td>\n",
       "      <td>1.244581e+02</td>\n",
       "      <td>...</td>\n",
       "      <td>-7.902286e+01</td>\n",
       "      <td>3.329735e+01</td>\n",
       "      <td>-1.547962e+02</td>\n",
       "      <td>1.415132e+01</td>\n",
       "      <td>6.779167e+01</td>\n",
       "      <td>2.354490e+01</td>\n",
       "      <td>7.495930e+01</td>\n",
       "      <td>1.155667e+02</td>\n",
       "      <td>-7.993390e+02</td>\n",
       "      <td>-4.779125e+01</td>\n",
       "    </tr>\n",
       "    <tr>\n",
       "      <th>std</th>\n",
       "      <td>2.489132e+01</td>\n",
       "      <td>4.953387e+00</td>\n",
       "      <td>3.863166e+01</td>\n",
       "      <td>1.984480e+01</td>\n",
       "      <td>4.634809e+01</td>\n",
       "      <td>2.818607e+01</td>\n",
       "      <td>2.716550e+02</td>\n",
       "      <td>6.421638e+01</td>\n",
       "      <td>6.356109e+00</td>\n",
       "      <td>6.443058e+01</td>\n",
       "      <td>...</td>\n",
       "      <td>3.045642e+01</td>\n",
       "      <td>2.888603e+01</td>\n",
       "      <td>4.122929e+01</td>\n",
       "      <td>9.895115e+01</td>\n",
       "      <td>1.823356e+00</td>\n",
       "      <td>5.534224e+01</td>\n",
       "      <td>6.134500e+01</td>\n",
       "      <td>2.117518e+01</td>\n",
       "      <td>3.854131e+02</td>\n",
       "      <td>4.174802e+01</td>\n",
       "    </tr>\n",
       "    <tr>\n",
       "      <th>min</th>\n",
       "      <td>-1.994687e+02</td>\n",
       "      <td>-1.391461e+01</td>\n",
       "      <td>-2.400734e+02</td>\n",
       "      <td>-2.326671e+02</td>\n",
       "      <td>-1.055830e+02</td>\n",
       "      <td>-2.110086e+02</td>\n",
       "      <td>-7.914699e+02</td>\n",
       "      <td>-3.018597e+02</td>\n",
       "      <td>9.315305e+01</td>\n",
       "      <td>-1.738719e+02</td>\n",
       "      <td>...</td>\n",
       "      <td>-2.205662e+02</td>\n",
       "      <td>-8.850774e+01</td>\n",
       "      <td>-3.539028e+02</td>\n",
       "      <td>-1.575944e+02</td>\n",
       "      <td>5.950944e+01</td>\n",
       "      <td>-2.331382e+02</td>\n",
       "      <td>-2.036016e+02</td>\n",
       "      <td>1.572448e+01</td>\n",
       "      <td>-1.297931e+03</td>\n",
       "      <td>-2.267801e+02</td>\n",
       "    </tr>\n",
       "    <tr>\n",
       "      <th>25%</th>\n",
       "      <td>-1.030654e+02</td>\n",
       "      <td>4.708491e+00</td>\n",
       "      <td>-6.955949e+01</td>\n",
       "      <td>-1.599051e+02</td>\n",
       "      <td>8.050795e+01</td>\n",
       "      <td>-9.137994e+01</td>\n",
       "      <td>-6.293318e+02</td>\n",
       "      <td>-2.222147e+01</td>\n",
       "      <td>1.194840e+02</td>\n",
       "      <td>8.176751e+01</td>\n",
       "      <td>...</td>\n",
       "      <td>-9.876390e+01</td>\n",
       "      <td>1.698862e+01</td>\n",
       "      <td>-1.807799e+02</td>\n",
       "      <td>-7.130038e+01</td>\n",
       "      <td>6.658096e+01</td>\n",
       "      <td>-1.251624e+01</td>\n",
       "      <td>3.377574e+01</td>\n",
       "      <td>1.016867e+02</td>\n",
       "      <td>-1.074465e+03</td>\n",
       "      <td>-7.566641e+01</td>\n",
       "    </tr>\n",
       "    <tr>\n",
       "      <th>50%</th>\n",
       "      <td>-8.623150e+01</td>\n",
       "      <td>8.038950e+00</td>\n",
       "      <td>-4.381661e+01</td>\n",
       "      <td>-1.467768e+02</td>\n",
       "      <td>1.118730e+02</td>\n",
       "      <td>-7.192230e+01</td>\n",
       "      <td>-4.222016e+02</td>\n",
       "      <td>2.080477e+01</td>\n",
       "      <td>1.238923e+02</td>\n",
       "      <td>1.234977e+02</td>\n",
       "      <td>...</td>\n",
       "      <td>-7.848812e+01</td>\n",
       "      <td>3.471502e+01</td>\n",
       "      <td>-1.539773e+02</td>\n",
       "      <td>1.382693e+01</td>\n",
       "      <td>6.781458e+01</td>\n",
       "      <td>2.341649e+01</td>\n",
       "      <td>7.492997e+01</td>\n",
       "      <td>1.160244e+02</td>\n",
       "      <td>-1.074465e+03</td>\n",
       "      <td>-4.859196e+01</td>\n",
       "    </tr>\n",
       "    <tr>\n",
       "      <th>75%</th>\n",
       "      <td>-6.925658e+01</td>\n",
       "      <td>1.147007e+01</td>\n",
       "      <td>-1.962527e+01</td>\n",
       "      <td>-1.333277e+02</td>\n",
       "      <td>1.423743e+02</td>\n",
       "      <td>-5.244111e+01</td>\n",
       "      <td>-1.566686e+02</td>\n",
       "      <td>6.391821e+01</td>\n",
       "      <td>1.279705e+02</td>\n",
       "      <td>1.672206e+02</td>\n",
       "      <td>...</td>\n",
       "      <td>-5.853355e+01</td>\n",
       "      <td>5.216429e+01</td>\n",
       "      <td>-1.273405e+02</td>\n",
       "      <td>9.966753e+01</td>\n",
       "      <td>6.902666e+01</td>\n",
       "      <td>5.975511e+01</td>\n",
       "      <td>1.158760e+02</td>\n",
       "      <td>1.295524e+02</td>\n",
       "      <td>-5.057445e+02</td>\n",
       "      <td>-1.971424e+01</td>\n",
       "    </tr>\n",
       "    <tr>\n",
       "      <th>max</th>\n",
       "      <td>2.151555e+01</td>\n",
       "      <td>2.993721e+01</td>\n",
       "      <td>1.609372e+02</td>\n",
       "      <td>-5.137478e+01</td>\n",
       "      <td>3.196645e+02</td>\n",
       "      <td>5.880624e+01</td>\n",
       "      <td>1.096325e+02</td>\n",
       "      <td>3.412282e+02</td>\n",
       "      <td>1.522612e+02</td>\n",
       "      <td>4.275421e+02</td>\n",
       "      <td>...</td>\n",
       "      <td>6.017411e+01</td>\n",
       "      <td>1.541678e+02</td>\n",
       "      <td>2.436099e+01</td>\n",
       "      <td>1.850981e+02</td>\n",
       "      <td>7.571203e+01</td>\n",
       "      <td>3.148988e+02</td>\n",
       "      <td>3.395738e+02</td>\n",
       "      <td>2.147063e+02</td>\n",
       "      <td>9.877081e+01</td>\n",
       "      <td>1.269732e+02</td>\n",
       "    </tr>\n",
       "  </tbody>\n",
       "</table>\n",
       "<p>8 rows × 72 columns</p>\n",
       "</div>"
      ],
      "text/plain": [
       "                  0             1             2             3             4  \\\n",
       "count  2.918139e+06  2.918139e+06  2.918139e+06  2.918139e+06  2.918139e+06   \n",
       "mean  -8.622947e+01  8.080077e+00 -4.458080e+01 -1.466350e+02  1.113166e+02   \n",
       "std    2.489132e+01  4.953387e+00  3.863166e+01  1.984480e+01  4.634809e+01   \n",
       "min   -1.994687e+02 -1.391461e+01 -2.400734e+02 -2.326671e+02 -1.055830e+02   \n",
       "25%   -1.030654e+02  4.708491e+00 -6.955949e+01 -1.599051e+02  8.050795e+01   \n",
       "50%   -8.623150e+01  8.038950e+00 -4.381661e+01 -1.467768e+02  1.118730e+02   \n",
       "75%   -6.925658e+01  1.147007e+01 -1.962527e+01 -1.333277e+02  1.423743e+02   \n",
       "max    2.151555e+01  2.993721e+01  1.609372e+02 -5.137478e+01  3.196645e+02   \n",
       "\n",
       "                  5             6             7             8             9  \\\n",
       "count  2.918139e+06  2.918139e+06  2.918139e+06  2.918139e+06  2.918139e+06   \n",
       "mean  -7.199138e+01 -3.922239e+02  2.035283e+01  1.236842e+02  1.244581e+02   \n",
       "std    2.818607e+01  2.716550e+02  6.421638e+01  6.356109e+00  6.443058e+01   \n",
       "min   -2.110086e+02 -7.914699e+02 -3.018597e+02  9.315305e+01 -1.738719e+02   \n",
       "25%   -9.137994e+01 -6.293318e+02 -2.222147e+01  1.194840e+02  8.176751e+01   \n",
       "50%   -7.192230e+01 -4.222016e+02  2.080477e+01  1.238923e+02  1.234977e+02   \n",
       "75%   -5.244111e+01 -1.566686e+02  6.391821e+01  1.279705e+02  1.672206e+02   \n",
       "max    5.880624e+01  1.096325e+02  3.412282e+02  1.522612e+02  4.275421e+02   \n",
       "\n",
       "       ...            62            63            64            65  \\\n",
       "count  ...  2.918139e+06  2.918139e+06  2.918139e+06  2.918139e+06   \n",
       "mean   ... -7.902286e+01  3.329735e+01 -1.547962e+02  1.415132e+01   \n",
       "std    ...  3.045642e+01  2.888603e+01  4.122929e+01  9.895115e+01   \n",
       "min    ... -2.205662e+02 -8.850774e+01 -3.539028e+02 -1.575944e+02   \n",
       "25%    ... -9.876390e+01  1.698862e+01 -1.807799e+02 -7.130038e+01   \n",
       "50%    ... -7.848812e+01  3.471502e+01 -1.539773e+02  1.382693e+01   \n",
       "75%    ... -5.853355e+01  5.216429e+01 -1.273405e+02  9.966753e+01   \n",
       "max    ...  6.017411e+01  1.541678e+02  2.436099e+01  1.850981e+02   \n",
       "\n",
       "                 66            67            68            69            70  \\\n",
       "count  2.918139e+06  2.918139e+06  2.918139e+06  2.918139e+06  2.918139e+06   \n",
       "mean   6.779167e+01  2.354490e+01  7.495930e+01  1.155667e+02 -7.993390e+02   \n",
       "std    1.823356e+00  5.534224e+01  6.134500e+01  2.117518e+01  3.854131e+02   \n",
       "min    5.950944e+01 -2.331382e+02 -2.036016e+02  1.572448e+01 -1.297931e+03   \n",
       "25%    6.658096e+01 -1.251624e+01  3.377574e+01  1.016867e+02 -1.074465e+03   \n",
       "50%    6.781458e+01  2.341649e+01  7.492997e+01  1.160244e+02 -1.074465e+03   \n",
       "75%    6.902666e+01  5.975511e+01  1.158760e+02  1.295524e+02 -5.057445e+02   \n",
       "max    7.571203e+01  3.148988e+02  3.395738e+02  2.147063e+02  9.877081e+01   \n",
       "\n",
       "                 71  \n",
       "count  2.918139e+06  \n",
       "mean  -4.779125e+01  \n",
       "std    4.174802e+01  \n",
       "min   -2.267801e+02  \n",
       "25%   -7.566641e+01  \n",
       "50%   -4.859196e+01  \n",
       "75%   -1.971424e+01  \n",
       "max    1.269732e+02  \n",
       "\n",
       "[8 rows x 72 columns]"
      ]
     },
     "metadata": {},
     "output_type": "display_data"
    },
    {
     "name": "stdout",
     "output_type": "stream",
     "text": [
      "Количество пропусков:\n",
      "0     0\n",
      "1     0\n",
      "2     0\n",
      "3     0\n",
      "4     0\n",
      "     ..\n",
      "67    0\n",
      "68    0\n",
      "69    0\n",
      "70    0\n",
      "71    0\n",
      "Length: 72, dtype: int64\n",
      "\n",
      "Количество дубликатов: 0\n"
     ]
    }
   ],
   "source": [
    "first_look(df_base)"
   ]
  },
  {
   "cell_type": "markdown",
   "id": "d50f0112-c7d8-4647-b385-034d84d8d146",
   "metadata": {},
   "source": [
    "Посмотрим на распределение значений признаков."
   ]
  },
  {
   "cell_type": "code",
   "execution_count": null,
   "id": "23c95cae-594a-4468-8ca0-faac13d89445",
   "metadata": {
    "tags": []
   },
   "outputs": [],
   "source": [
    "df_base.hist(figsize=(18, 16), bins=50, grid=False);\n",
    "plt.tight_layout()\n",
    "plt.show()"
   ]
  },
  {
   "cell_type": "code",
   "execution_count": null,
   "id": "54b43db2-dd35-47a8-b1e8-9b6db851a92d",
   "metadata": {
    "tags": []
   },
   "outputs": [],
   "source": [
    "df_base = df_base.drop(['6', '21', '25', '33', '44', '59', '65', '70'], axis=1)"
   ]
  },
  {
   "cell_type": "markdown",
   "id": "e63c3240",
   "metadata": {},
   "source": [
    "**Вывод**\n",
    "- Набор товаров, среди которых нам нужно проводить поиск содержит почти 3 млн образцов\n",
    "- Данные зашифрованы. Для каждого образца товара имеется 72 характеристики все представляют собой дробные числа\n",
    "- Пропусков и дубликатов в наборе нет\n",
    "- Как видно из гистограмм, большинство признаков имеют бликое к нормальному распределению. Но имеются признаки никак не связанные с нормальным распределением. В первой иттерации удалим эти признаки."
   ]
  },
  {
   "cell_type": "markdown",
   "id": "f867c6f7",
   "metadata": {
    "tags": []
   },
   "source": [
    "## Данные, для которых даны оценки экспертов"
   ]
  },
  {
   "cell_type": "code",
   "execution_count": null,
   "id": "24a058e8-3140-40ff-93f3-9e0bf1a44c27",
   "metadata": {
    "tags": []
   },
   "outputs": [],
   "source": [
    "first_look(df_train)"
   ]
  },
  {
   "cell_type": "markdown",
   "id": "c8641d34",
   "metadata": {},
   "source": [
    "Посмотрим на распределение значений признаков."
   ]
  },
  {
   "cell_type": "code",
   "execution_count": null,
   "id": "a099f34e-108e-435e-94d3-d9c92817c4e9",
   "metadata": {
    "tags": []
   },
   "outputs": [],
   "source": [
    "df_train.hist(figsize=(18, 16), bins=100, grid=False);\n",
    "plt.tight_layout()\n",
    "plt.show()"
   ]
  },
  {
   "cell_type": "markdown",
   "id": "ecf26bd1-996e-4273-92be-3096fbe08410",
   "metadata": {},
   "source": [
    "**Вывод**\n",
    "- Данные, для которых даны оценки экспертов без пропусков и дубликатов\n",
    "- Характеристики имеют те же распределения, что и в базовом датасете. Также удалим признаки\n",
    "- Оценки экспертов содержатся в отдельном столбце target. Выделим его в отдельную переменную для последующей передачи модели."
   ]
  },
  {
   "cell_type": "code",
   "execution_count": null,
   "id": "14a3a6b6-ebd6-4f53-b985-d554f31732ef",
   "metadata": {
    "tags": []
   },
   "outputs": [],
   "source": [
    "# разделим запросы и ответы экспертов\n",
    "targets = df_train[\"Target\"]\n",
    "df_train.drop(\"Target\", axis=1, inplace=True)"
   ]
  },
  {
   "cell_type": "code",
   "execution_count": null,
   "id": "7c34a3ad-f39a-4a71-aa1d-06113f4829d0",
   "metadata": {
    "tags": []
   },
   "outputs": [],
   "source": [
    "df_train = df_train.drop(['6', '21', '25', '33', '44', '59', '65', '70'], axis=1)"
   ]
  },
  {
   "cell_type": "markdown",
   "id": "0ca0bbf0",
   "metadata": {
    "tags": []
   },
   "source": [
    "## Данные для проверки качества модели"
   ]
  },
  {
   "cell_type": "code",
   "execution_count": null,
   "id": "847cd277",
   "metadata": {
    "tags": []
   },
   "outputs": [],
   "source": [
    "first_look(df_validation)"
   ]
  },
  {
   "cell_type": "markdown",
   "id": "8c02b057",
   "metadata": {},
   "source": [
    "Посмотрим на распределение значений признаков."
   ]
  },
  {
   "cell_type": "code",
   "execution_count": null,
   "id": "ebfe6581-41e3-4185-b41e-a58e55d1a34e",
   "metadata": {
    "tags": []
   },
   "outputs": [],
   "source": [
    "df_validation.hist(figsize=(18, 16), bins=100, grid=False);\n",
    "plt.tight_layout()\n",
    "plt.show()"
   ]
  },
  {
   "cell_type": "markdown",
   "id": "1ad27734-df8a-4978-bc16-39a166c6e603",
   "metadata": {},
   "source": [
    "**Выводы** для датасета с запросами, для которых необходимо подобрать похожие товары в соответствии с рекомендациями экспертов аналогичны предидущему датасету."
   ]
  },
  {
   "cell_type": "code",
   "execution_count": null,
   "id": "f1e3988f-47bc-4879-b02a-4d2045164c9c",
   "metadata": {
    "tags": []
   },
   "outputs": [],
   "source": [
    "df_validation = df_validation.drop(['6', '21', '25', '33', '44', '59', '65', '70'], axis=1)"
   ]
  },
  {
   "cell_type": "markdown",
   "id": "a12a6ffe-88ba-482c-9095-70e47f954d38",
   "metadata": {},
   "source": [
    "## Корреляция на базе анонимизированного набора товаров"
   ]
  },
  {
   "cell_type": "code",
   "execution_count": null,
   "id": "d80240d5-d7cf-4300-815c-634f78a6f47b",
   "metadata": {
    "tags": []
   },
   "outputs": [],
   "source": [
    "f, ax = plt.subplots(figsize=(18, 18))\n",
    "sns.heatmap(df_base.corr(), vmin=-1, vmax=1, square=True, annot=False, fmt='.2f');\n",
    "plt.title('Матрица коэффициентов корреляции Пирсона')\n",
    "plt.show()"
   ]
  },
  {
   "cell_type": "markdown",
   "id": "9fef633f",
   "metadata": {
    "tags": []
   },
   "source": [
    "## Вывод после предварительного знакомства с данными"
   ]
  },
  {
   "cell_type": "markdown",
   "id": "88a770e3",
   "metadata": {},
   "source": [
    "Для исследования доступны три набора данных\n",
    "- 3 млн товаров, среди которых мы должны подбирать похожие на входные запросы\n",
    "- 100 000 строк запросов с ответами экспертов\n",
    "- 100 000 запросов для подбора похожих товаров с помощью разрабатываемой модели.\n",
    "\n",
    "Все три набора данных зашифрованы Для каждого образца товара имеется 72 характеристики все представляют собой дробные числа. \n",
    "\n",
    "Пропусков и дубликатов нет ни в одном наборе.\n",
    "\n",
    "Данные в основном представлены непрерывными числовыми значениями, основная их доля очевидно имеет нормальное распределение. Те данные, которые явно не характеризуются нормальным распределением, будут вносить лишний шум в результаты метчинга - такие данные исклчюены.\n",
    "\n",
    "Сильных корреляционных зависимостей не наблюдается.\n"
   ]
  },
  {
   "cell_type": "markdown",
   "id": "aa1a1e86",
   "metadata": {
    "tags": []
   },
   "source": [
    "# Нормализация данных"
   ]
  },
  {
   "cell_type": "markdown",
   "id": "3ba995bd",
   "metadata": {},
   "source": [
    "Так как формула для расчёта расстояния между точками в пространстве чувствительна к диапазону значений различных характеристик, предварительно нормализуем данные.\n"
   ]
  },
  {
   "cell_type": "code",
   "execution_count": null,
   "id": "11779428-53c2-437d-b8e1-2d100f5612a8",
   "metadata": {
    "tags": []
   },
   "outputs": [],
   "source": [
    "scaler = StandardScaler()\n",
    "scaler.fit(df_base[df_base.columns])\n",
    "df_base[df_base.columns]             = scaler.transform(df_base[df_base.columns])\n",
    "df_train[df_train.columns]           = scaler.transform(df_train[df_train.columns])\n",
    "df_validation[df_validation.columns] = scaler.transform(df_validation[df_validation.columns])"
   ]
  },
  {
   "cell_type": "markdown",
   "id": "08cb5ce5-8eb3-42cc-a2f7-ca1bba8d0a1d",
   "metadata": {
    "tags": []
   },
   "source": [
    "# Поиск ближайших соседей"
   ]
  },
  {
   "cell_type": "markdown",
   "id": "ef3df516",
   "metadata": {},
   "source": [
    "Для того, чтобы найти в базовом наборе товары, похожие на наш запрос, воспользуемся библиотекой FAISS.\n",
    "\n",
    "Принцип работы Faiss:\n",
    "- Отображение всех объектов (векторов) в едином пространстве\n",
    "- Деление полученного пространства на отдельные части (кластеры) при помощи спец. алгоритма библиотеки\n",
    "- Для каждого кластера происходит поиск его центра (центроида)\n",
    "- Таким образом, для нового вектора можно быстрой найти ближайших соседей, вычислив расстояние именно до центроидов (не перемножая новый вектор со всеми остальными векторами).\n",
    "- После выявления ближайшего кластера, новый вектор перемножается векторами только из этого кластера.\n",
    "\n",
    "FlatL2 - мера близости вектором L2-норма (евклидово расстояние). По этой причине большое значение имеет \"нормализованы ли признаки?\", поскольку в этой ситуации признак бóльшей величины будет играть бóльшую роль в предсказании. Но это не отображает достоверность его значимость. quantizer - квантизатор, который получает на вход вектора размерностью dims и рассчитывает расстояние между ними по евклидовой норме. idx_l2 - пространство векторов размерностью dims, разделяемое на n_cells кластеров с помощью quantizer."
   ]
  },
  {
   "cell_type": "code",
   "execution_count": null,
   "id": "5fe65afd-28cf-41e4-93d4-0ffb27732a24",
   "metadata": {
    "tags": []
   },
   "outputs": [],
   "source": [
    "# инициализация индекса\n",
    "dims = df_base.shape[1]\n",
    "n_cells = 18\n",
    "quantizer = faiss.IndexFlatL2(dims)\n",
    "idx_l2 = faiss.IndexIVFFlat(quantizer, dims, n_cells)"
   ]
  },
  {
   "cell_type": "code",
   "execution_count": null,
   "id": "40759451-6feb-4ec5-8f87-f989106d0644",
   "metadata": {},
   "outputs": [],
   "source": [
    "# подготовка к поиску\n",
    "idx_l2.train(np.ascontiguousarray(df_base.values).astype('float32'))\n",
    "idx_l2.add(np.ascontiguousarray(df_base.values).astype('float32'))\n",
    "\n",
    "# создание словаря для нахождения индекса товара в базовом наборе данных\n",
    "base_index = {k: v for k, v in enumerate(df_base.index.to_list())}"
   ]
  },
  {
   "cell_type": "markdown",
   "id": "af0d0cb9-e00b-4569-aeae-02e2a8bb68dc",
   "metadata": {},
   "source": [
    "Далее расчитана целевая метрика в зависимости от количества кандидатов. По заданию метрика считается для 5 кандидатов, но ml модель может немного улучшить метрику. Ислледуем диапозон от 5 до 450 кандадатов"
   ]
  },
  {
   "cell_type": "code",
   "execution_count": null,
   "id": "43175071-2247-4937-924d-df74bbfbcc52",
   "metadata": {
    "tags": []
   },
   "outputs": [],
   "source": [
    "cand_number = []\n",
    "cand_result = []\n",
    "\n",
    "for i in range(5, 450, 50):\n",
    "    r, idx = idx_l2.search(np.ascontiguousarray(df_train.values).astype('float32'), i)\n",
    "    acc = 0\n",
    "    for target, el in zip(targets.values.tolist(), idx.tolist()):\n",
    "        acc += int(target in [base_index[r] for r in el])\n",
    "\n",
    "    cand_number.append(i)\n",
    "    cand_result.append(100 * acc / len(idx))"
   ]
  },
  {
   "cell_type": "code",
   "execution_count": null,
   "id": "537ab18e-c67c-4d24-9a6c-449306363397",
   "metadata": {
    "tags": []
   },
   "outputs": [],
   "source": [
    "test_cand = pd.DataFrame({'num_candidate': cand_number, 'acc': cand_result})"
   ]
  },
  {
   "cell_type": "code",
   "execution_count": null,
   "id": "7d7f5323-627e-433d-9046-410317bbbb5b",
   "metadata": {},
   "outputs": [],
   "source": [
    "plt.figure(figsize=(18, 6))\n",
    "plt.plot(test_cand.num_candidate, test_cand.acc, 'ro-')\n",
    "plt.grid(True)\n",
    "plt.title('Зависимость между целевой метрикой и количеством кандадатов')\n",
    "plt.ylabel('Значение целевой метрики')\n",
    "plt.xlabel('Количество кандадатов')\n",
    "plt.show()"
   ]
  },
  {
   "cell_type": "markdown",
   "id": "f3f1d9ee-cac7-40f8-a1a8-ca34d895854c",
   "metadata": {},
   "source": [
    "Как видно, с увеличением метрики растетм и максимальное значение целевой метрики. Но нужно понимать, что увеличение количества кандидатов увеличит и время предсказания модели, так как ей придется в каждой иттерации просчитывать бОльшее количество кандидатов. В данном случае необходимо найти баланс между количеством кандидатов и затрачиваемого времени. В первом приближении предлагается использовать 20 кандидатов - значение целевой метрики около 67%."
   ]
  },
  {
   "cell_type": "markdown",
   "id": "fce1efd2-e243-4445-9dae-abd65e0b9cab",
   "metadata": {},
   "source": [
    "## Поиск по обучающей выборке"
   ]
  },
  {
   "cell_type": "code",
   "execution_count": null,
   "id": "f4495459-d7e0-4dd9-aabb-a9e81410b826",
   "metadata": {
    "tags": []
   },
   "outputs": [],
   "source": [
    "K_NEIGHBORS = 10"
   ]
  },
  {
   "cell_type": "markdown",
   "id": "30c36ac4",
   "metadata": {},
   "source": [
    "Проводим сопоставление товаров библиотекой Faiss, для получения результата по метрике accuracy@5 задаем подбор 5 кандидатов."
   ]
  },
  {
   "cell_type": "code",
   "execution_count": null,
   "id": "5d0b4004-9939-47b7-a17f-8888a72aac50",
   "metadata": {
    "tags": []
   },
   "outputs": [],
   "source": [
    "# измерим время поиска\n",
    "start_time = dt.datetime.now().timestamp()\n",
    "vecs, idx = idx_l2.search(np.ascontiguousarray(df_train.values).astype('float32'), K_NEIGHBORS)\n",
    "time_spent = dt.datetime.now().timestamp() - start_time\n",
    "print(f'Время поиска: {time_spent // 60} минут и {time_spent % 60} секунд')"
   ]
  },
  {
   "cell_type": "markdown",
   "id": "64a1bb1f",
   "metadata": {},
   "source": [
    "Считаем метрику на тренировочном датасете."
   ]
  },
  {
   "cell_type": "code",
   "execution_count": null,
   "id": "6090ac38-3122-4039-b6e8-4028267614be",
   "metadata": {},
   "outputs": [],
   "source": [
    "acc_n = 0\n",
    "for target, el in zip(targets.values.tolist(), idx.tolist()):\n",
    "    acc_n += int(target in [base_index[r] for r in el])\n",
    "print(100 * acc_n / len(idx))"
   ]
  },
  {
   "cell_type": "code",
   "execution_count": null,
   "id": "7a86b798-705b-4a2f-9d7a-3c43a6a6179d",
   "metadata": {
    "tags": []
   },
   "outputs": [],
   "source": [
    "acc_5 = 0\n",
    "for target, el in zip(targets.values.tolist(), idx.tolist()):\n",
    "    acc_5 += int(target in [base_index[r] for r in el[:5]])\n",
    "print(100 * acc_5 / len(idx))"
   ]
  },
  {
   "cell_type": "markdown",
   "id": "e7b76307-8ee7-466b-adc2-3186b4a8aecc",
   "metadata": {},
   "source": [
    "На текущему этапе создано и наполнено векторное пространство из объектов датасета base. Пространство поделено на 20 кластеров, что ускоряет и уточняет процесс поиска. Для каждого объекта из train были найдены 10 ближайших векторов при помощи меры FlatL2. На тренировочном датасете получаем значение метрики **accuracy@5=63.114**, что является удовлетворительным результатом работы модели. Такой результат удалось достичь за счет удалениея не информативных признаков и стандартизации данных. Для 10 кандадатов значение метрики **accuracy@30=67.186**. Далее, среди найденных кандидатов необходимо выявить самые подходящие. Для этого их требуется отранжировать.\n",
    "\n",
    "**p.s. свыше 10 кандидатов првоерить не удалось - ругается на нехватку оперативной памяти.**"
   ]
  },
  {
   "cell_type": "markdown",
   "id": "78545715-01c9-44fc-ba67-14bd6033ee3a",
   "metadata": {
    "tags": []
   },
   "source": [
    "# Ранжирование"
   ]
  },
  {
   "cell_type": "markdown",
   "id": "e16db9ee-e17d-4ddd-952d-92863273504a",
   "metadata": {
    "tags": []
   },
   "source": [
    "## Формирование тренировочной выборки"
   ]
  },
  {
   "cell_type": "markdown",
   "id": "582e293b-7856-40a1-af61-c2506083b7ab",
   "metadata": {},
   "source": [
    "Првым шагом необходимо составить новый датафрейм состоящий из двух половин:\n",
    "\n",
    "Искомые векторы\n",
    "Несколько кандидатов на сопоставление для каждого искомого вектора.\n",
    "Последним столбцом для этого вектора станет matching содержащий правильный ответ: 1 - вектор подходит, 0 - вектор не подходим."
   ]
  },
  {
   "cell_type": "code",
   "execution_count": null,
   "id": "5e17cc46-deb5-4f54-b5b0-4f7885b1b045",
   "metadata": {},
   "outputs": [],
   "source": [
    "# подготовка датафрейма с перечнем ID новых и старых объектов\n",
    "idx_df = pd.DataFrame(dtype='float32', data=idx, index=df_train.index)\n",
    "idx_df = pd.melt(idx_df.T)\n",
    "idx_df.columns = ['id_query', 'candidate']\n",
    "idx_df['id_candidate'] = [base_index[number] for number in idx_df['candidate'].values]\n",
    "idx_df.drop('candidate', axis=1, inplace=True)\n",
    "\n",
    "idx_df"
   ]
  },
  {
   "cell_type": "markdown",
   "id": "6b8b7260-8b0a-4d32-a951-5320f6f51863",
   "metadata": {
    "tags": []
   },
   "source": [
    "Полученные колонки с id товаров будут использованы для объединения при помощи метода merge(). В качестве данных будут использоваться уже отмасштабированные признаки"
   ]
  },
  {
   "cell_type": "code",
   "execution_count": null,
   "id": "9c03e9a6-590e-482e-95fa-40745c90bc03",
   "metadata": {},
   "outputs": [],
   "source": [
    "df_train_base = idx_df.merge(df_train, left_on='id_query', right_on='Id', how='left')\n",
    "df_train_base = df_train_base.merge(df_base, left_on='id_candidate', right_on='Id', how='left', suffixes=('', '_base'))\n",
    "df_train_base = df_train_base.merge(targets, left_on='id_query', right_on='Id', how='left')\n",
    "\n",
    "df_train_base.head()"
   ]
  },
  {
   "cell_type": "code",
   "execution_count": null,
   "id": "26c68d5f-b00c-4372-b822-9717b0e0e6d5",
   "metadata": {},
   "outputs": [],
   "source": [
    "# преобразование целевого признака для бинарной классификации\n",
    "df_train_base['matching'] = (df_train_base['id_candidate'] == df_train_base['Target']).astype('int')\n",
    "df_train_base.drop('Target', axis=1, inplace=True)"
   ]
  },
  {
   "cell_type": "code",
   "execution_count": null,
   "id": "4be9bc65-1537-462b-a346-c9c125e8260e",
   "metadata": {},
   "outputs": [],
   "source": [
    "# выделение признаков и таргета\n",
    "y_train = df_train_base['matching']\n",
    "X_train = df_train_base.drop(['id_query', 'id_candidate', 'matching'] , axis=1)\n",
    "\n",
    "display(y_train.to_frame())\n",
    "display(X_train)"
   ]
  },
  {
   "cell_type": "markdown",
   "id": "d899240e-5882-4a1a-a4fb-b311d8e0a608",
   "metadata": {},
   "source": [
    "В результате получилась выборка для обучения:\n",
    "- 1 000 000  записей = 100 000 новых товаров (query) * 10 ближайших кандидатов для каждого.\n",
    "- 128 признака = 64 признака \"старых\" товаров из base + 64 признака \"новых\" товаров из train.\n",
    "- бинарный целевой признак."
   ]
  },
  {
   "cell_type": "markdown",
   "id": "89d7df6d-393a-4821-b8c9-6a1707005c2e",
   "metadata": {
    "tags": []
   },
   "source": [
    "## Поиск по тестовой выборке"
   ]
  },
  {
   "cell_type": "code",
   "execution_count": null,
   "id": "236e716f-e551-4f3f-82f2-ef5cb156acf0",
   "metadata": {
    "tags": []
   },
   "outputs": [],
   "source": [
    "# поиск ближайших соседей для валидационной выборки\n",
    "start_time = dt.datetime.now().timestamp()\n",
    "valid_vec, valid_idx = idx_l2.search(np.ascontiguousarray(df_validation), K_NEIGHBORS)\n",
    "time_spent = dt.datetime.now().timestamp() - start_time\n",
    "print(f'Время поиска: {time_spent // 60} минут и {time_spent % 60} секунд')"
   ]
  },
  {
   "cell_type": "code",
   "execution_count": null,
   "id": "51c962a3-5b4b-4ca8-942f-7a612ff6e2a3",
   "metadata": {
    "tags": []
   },
   "outputs": [],
   "source": [
    "acc_n_valid = 0\n",
    "\n",
    "for target, el in zip(df_validation_answer['Expected'].values.tolist(), valid_idx.tolist()):\n",
    "    acc_n_valid += int(target in [base_index[r] for r in el])\n",
    "\n",
    "print(100 * acc_n_valid / len(valid_idx))"
   ]
  },
  {
   "cell_type": "code",
   "execution_count": null,
   "id": "42f3eb62-0a91-45f6-9731-d7110f582b6e",
   "metadata": {
    "tags": []
   },
   "outputs": [],
   "source": [
    "acc_5_valid = 0\n",
    "\n",
    "for target, el in zip(df_validation_answer['Expected'].values.tolist(), valid_idx.tolist()):\n",
    "    acc_5_valid += int(target in [base_index[r] for r in el[:5]])\n",
    "\n",
    "print(100 * acc_5_valid / len(valid_idx))"
   ]
  },
  {
   "cell_type": "markdown",
   "id": "626b9437-e33a-4228-95fd-da3765cb453b",
   "metadata": {},
   "source": [
    "Результата на тестовой выборке (без ранжирования ML моделью) составялет 62.96, что весьма неплохо. Темне-менее попробуем улчишть с применением ML."
   ]
  },
  {
   "cell_type": "markdown",
   "id": "ff3ebf9a-9cd2-48fe-a920-2ab7020fcd2b",
   "metadata": {
    "tags": []
   },
   "source": [
    "## Формирование тестовой выборки"
   ]
  },
  {
   "cell_type": "markdown",
   "id": "69949b2b-b47e-497f-9284-c604acd2aa73",
   "metadata": {
    "tags": []
   },
   "source": [
    "Аналогичную процедуру  как и для обучающей выборки необходимо выполнить для тестовой выборки."
   ]
  },
  {
   "cell_type": "code",
   "execution_count": null,
   "id": "1d2e0b11-832f-43ca-b797-0c313780848c",
   "metadata": {
    "tags": []
   },
   "outputs": [],
   "source": [
    "# подготовка датафрейма с перечнем ID новых и старых объектов\n",
    "idx_df = pd.DataFrame(dtype='float32', data=valid_idx, index=df_validation.index)\n",
    "idx_df = pd.melt(idx_df.T)\n",
    "idx_df.columns = ['id_query', 'candidate']\n",
    "idx_df['id_candidate'] = [base_index[number] for number in idx_df['candidate'].values]\n",
    "idx_df.drop('candidate', axis=1, inplace=True)\n",
    "\n",
    "display(idx_df)"
   ]
  },
  {
   "cell_type": "code",
   "execution_count": null,
   "id": "f3441823-4576-4715-b029-2fd55e40e9bd",
   "metadata": {
    "tags": []
   },
   "outputs": [],
   "source": [
    "df_valid_base = idx_df.merge(df_validation, left_on='id_query', right_on='Id', how='left')\n",
    "df_valid_base = df_valid_base.merge(df_base, left_on='id_candidate', right_on='Id', how='left', suffixes=('', '_base'))\n",
    "df_valid_base = df_valid_base.merge(df_validation_answer, left_on='id_query', right_on='Id', how='left')\n",
    "\n",
    "df_valid_base.head()"
   ]
  },
  {
   "cell_type": "code",
   "execution_count": null,
   "id": "a7b3a443-6041-40b0-88a3-4e435c2e6287",
   "metadata": {
    "tags": []
   },
   "outputs": [],
   "source": [
    "# преобразование целевого признака для бинарной классификации\n",
    "df_valid_base['matching'] = (df_valid_base['id_candidate'] == df_valid_base['Expected']).astype('int')\n",
    "display(df_valid_base[['id_query', 'id_candidate', 'Expected', 'matching']])\n",
    "df_valid_base.drop('Expected', axis=1, inplace=True)"
   ]
  },
  {
   "cell_type": "code",
   "execution_count": null,
   "id": "757ef1d7-93e3-4a93-9c49-370e2464a76f",
   "metadata": {
    "tags": []
   },
   "outputs": [],
   "source": [
    "# выделение признаков и таргета\n",
    "y_valid = df_valid_base['matching']\n",
    "X_valid = df_valid_base.drop(['id_query', 'id_candidate', 'matching'] , axis=1)\n",
    "\n",
    "display(y_valid.to_frame())\n",
    "display(X_valid)"
   ]
  },
  {
   "cell_type": "markdown",
   "id": "d50769cd-008e-452e-b146-743f683c52d9",
   "metadata": {},
   "source": [
    "## Обучение ML-модели"
   ]
  },
  {
   "cell_type": "code",
   "execution_count": null,
   "id": "51fb8596-fa17-4a8c-b3f8-d61c9b85d97a",
   "metadata": {
    "tags": []
   },
   "outputs": [],
   "source": [
    "y_train.value_counts(normalize=True)"
   ]
  },
  {
   "cell_type": "markdown",
   "id": "212cf879-4524-4959-abb7-6cd80a7c9df9",
   "metadata": {},
   "source": [
    "Обучать будем CatBoostClassifier. Для подготовки модели осталось получить лучшие гиперпараметры. Предлагается воспользоваться библиотекой Optuna.В качестве метрики выбрана F1, так как в отличии от accuracy дисбаланс классов на нее не влияет, а у нас наблюдается сильный дисбаланс."
   ]
  },
  {
   "cell_type": "code",
   "execution_count": null,
   "id": "f501a190-8b7b-4f3f-a4cc-77f845d73d01",
   "metadata": {
    "tags": []
   },
   "outputs": [],
   "source": [
    "def objective(trial: optuna.Trial):\n",
    "    params = {\n",
    "            'iterations': trial.suggest_int('iterations', 100, 1000, step=50),\n",
    "            'learning_rate': trial.suggest_float('learning_rate', 0.0001, 1, step=0.0001),\n",
    "            'depth': trial.suggest_int('depth', 2, 10, step=1),\n",
    "            'l2_leaf_reg': trial.suggest_float('l2_leaf_reg', 0.001, 100, log=True)\n",
    "    }\n",
    "    \n",
    "    cbc = CatBoostClassifier(**params, random_state=RANDOM_STATE, verbose=False)\n",
    "    cv = KFold(n_splits=4)\n",
    "    scorer = make_scorer(f1_score)\n",
    "    \n",
    "    scores = cross_val_score(\n",
    "        cbc, \n",
    "        X_train, \n",
    "        y_train, \n",
    "        cv=cv, \n",
    "        scoring=scorer)\n",
    "\n",
    "    return scores.mean()\n",
    "\n",
    "\n",
    "study = optuna.create_study(study_name='CatBoostClassifier', \n",
    "                                direction='maximize', \n",
    "                                sampler=TPESampler(seed=RANDOM_STATE)\n",
    "                                )\n",
    "study.optimize(objective, n_trials=1, timeout=None, n_jobs=1)"
   ]
  },
  {
   "cell_type": "code",
   "execution_count": null,
   "id": "1ed73dc5-1b2b-43ae-88ef-5e4bc97d55ec",
   "metadata": {
    "tags": []
   },
   "outputs": [],
   "source": [
    "print('Best hyperparameters:', study.best_params)\n",
    "print('Best F1-score:', study.best_value)"
   ]
  },
  {
   "cell_type": "markdown",
   "id": "8857e7c7-53a1-4e07-b690-a070733f269f",
   "metadata": {},
   "source": [
    "Оптимальные гиперпараметры найдены. Следующим шагом перейдем к обучению модели и предсказанию вероятности совместимости. Затем по найденным занчениям вероятностей буду определены 5 наиболее подходящих кандидатов."
   ]
  },
  {
   "cell_type": "code",
   "execution_count": null,
   "id": "22ad9448-a9e5-40f7-99d2-1779e000dbad",
   "metadata": {},
   "outputs": [],
   "source": [
    "model = CatBoostClassifier(iterations=950, learning_rate=0.3164,depth=3,l2_leaf_reg=0.010539048248947627,random_state=RANDOM_STATE, verbose=False)\n",
    "model.fit(X_train, y_train)"
   ]
  },
  {
   "cell_type": "code",
   "execution_count": null,
   "id": "448f9750-3063-4289-a896-9889f9a0fa5f",
   "metadata": {},
   "outputs": [],
   "source": [
    "valid_probabilities = model.predict_proba(X_valid)[:, 1]\n",
    "valid_proba_series = pd.Series(valid_probabilities)"
   ]
  },
  {
   "cell_type": "code",
   "execution_count": null,
   "id": "a81ccd98-60fd-4bfe-9abb-2011913e5a46",
   "metadata": {},
   "outputs": [],
   "source": [
    "valid_candidates = []\n",
    "for i in range(0, len(valid_proba_series), K_NEIGHBORS):\n",
    "    query = valid_proba_series[i : i + K_NEIGHBORS]\n",
    "    index = query.sort_values(ascending=False)[0:5].index\n",
    "    valid_candidates.append(index)\n",
    "\n",
    "print('Кол-во предсказаний:', len(valid_candidates))\n",
    "print('Кол-во кандидатов:', len(valid_candidates[0]))"
   ]
  },
  {
   "cell_type": "markdown",
   "id": "f0a09f86-663e-4cfa-854c-200ff5ec068b",
   "metadata": {},
   "source": [
    "Теперь расчитаем метрику для 5 найденных наиболее подходящих кандидатов."
   ]
  },
  {
   "cell_type": "code",
   "execution_count": null,
   "id": "fd12a059-90e8-4dfa-91f1-dcb24fffd26c",
   "metadata": {},
   "outputs": [],
   "source": [
    "acc_5_final = 0\n",
    "for target, candidates in zip(df_validation_answer['Expected'].values.tolist(), valid_candidates):\n",
    "    acc_5_final += int(target in df_valid_base.loc[candidates, 'id_candidate'].values)\n",
    "\n",
    "print(100 * acc_5_final / len(valid_candidates))"
   ]
  },
  {
   "cell_type": "markdown",
   "id": "e567a33b-958f-456f-99fe-cf9de87efc55",
   "metadata": {
    "tags": []
   },
   "source": [
    "# Вывод"
   ]
  },
  {
   "cell_type": "markdown",
   "id": "29bdf07b-9439-4bb8-8801-2008455abae2",
   "metadata": {},
   "source": [
    "1. В рамках исследования были представлены 3 набора данных:\n",
    "- Пропусков и дубликатов нет ни в одном наборе.\n",
    "- Данные в основном представлены непрерывными числовыми значениями, основная их доля очевидно имеет нормальное распределение. \n",
    "- Данные, которые явно не характеризуются нормальным распределением были исключены из анализа, т.к. такие данные вносят лишние шумы.\n",
    "- Сильных корреляционных зависимостей не выявлено.\n",
    "\n",
    "2. Учитывая тот факт, что формула для расчёта расстояния между точками в пространстве чувствительна к диапазону значений различных характеристик, данные были нормализованы.\n",
    "\n",
    "3. Дополнительно проанализирована целевая метрика в зависимости от количества кандидатов в диапозоне от 5 до 500 кандадатов и установлено:\n",
    "- с увеличением количества кандидатов растет и максимальное значение целевой метрики\n",
    "- увеличение количества кандидатов увеличит и время предсказания модели, так как ей придется в каждой иттерации просчитывать бОльшее количество кандидатов.\n",
    "\n",
    "4. Для решения поставленной задачи было создано и наполнено векторное пространство из объектов анонамизированного набора данных (base). Пространство поделено на 20 кластеров, что ускоряет и уточняет процесс поиска. Для каждого объекта из train были найдены 10 ближайших векторов при помощи меры FlatL2 (при большом количестве не хватало оперативной памяти при формировании дататсетов для обучения и тестирования ML модели).\n",
    "\n",
    "5. На тренировочном датасете (train) получаем значение метрики **accuracy@5=63.114**, что является удовлетворительным результатом работы модели. Такой результат удалось достичь за счет удалениея не информативных признаков и стандартизации данных. При этом на тестовой выборке (validation) значение метрики **accuracy@5= 62.96** достигнуто без учета ранжирования ML моделью.\n",
    "\n",
    "6. В качестве ML модели был выбран CatBoostClassifier и проведен подбор гиперпараметров. По обученной модели пердсказаны вероятности совместимости и по найденным занчениям вероятностей  определены 5 наиболее подходящих кандидато по которым расчитано значение целевой метрики **accuracy@5=61.81**\n",
    "\n",
    "**На текущем этапе мы видим, что применение ML модели не улучшает показатель целевой метрики, темне-менне в дальнейшем можно поробовать усовршенстовать модель и повторно сравнить результат**"
   ]
  }
 ],
 "metadata": {
  "kernelspec": {
   "display_name": "Python 3 (ipykernel)",
   "language": "python",
   "name": "python3"
  },
  "language_info": {
   "codemirror_mode": {
    "name": "ipython",
    "version": 3
   },
   "file_extension": ".py",
   "mimetype": "text/x-python",
   "name": "python",
   "nbconvert_exporter": "python",
   "pygments_lexer": "ipython3",
   "version": "3.11.4"
  }
 },
 "nbformat": 4,
 "nbformat_minor": 5
}
